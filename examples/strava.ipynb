{
 "cells": [
  {
   "cell_type": "code",
   "execution_count": 1,
   "id": "f0ee1ef0",
   "metadata": {},
   "outputs": [],
   "source": [
    "%load_ext autoreload\n",
    "%autoreload 2\n",
    "import warnings\n",
    "warnings.filterwarnings('ignore')\n",
    "\n",
    "import runpandas\n",
    "import os\n",
    "import pandas as pd\n",
    "pd.set_option('display.max_rows', 500)\n"
   ]
  },
  {
   "cell_type": "code",
   "execution_count": 2,
   "id": "346f6024",
   "metadata": {},
   "outputs": [],
   "source": [
    "client = runpandas.StravaClient()\n",
    "client.authenticate_web()"
   ]
  },
  {
   "cell_type": "code",
   "execution_count": 4,
   "id": "32938533",
   "metadata": {},
   "outputs": [
    {
     "data": {
      "text/plain": [
       "Session                           Running: 25-09-2021 05:29:40\n",
       "Total distance (meters)                               100940.5\n",
       "Total ellapsed time                            0 days 17:00:43\n",
       "Total moving time                              0 days 15:21:50\n",
       "Average speed (km/h)                                       NaN\n",
       "Average moving speed (km/h)                                NaN\n",
       "Average pace (per 1 km)                                    NaN\n",
       "Average pace moving (per 1 km)                             NaN\n",
       "Average cadence                                      65.456174\n",
       "Average moving cadence                               69.492244\n",
       "Average heart rate                                  119.068156\n",
       "Average moving heart rate                           120.551058\n",
       "Average temperature                                        NaN\n",
       "dtype: object"
      ]
     },
     "execution_count": 4,
     "metadata": {},
     "output_type": "execute_result"
    }
   ],
   "source": [
    "activity = runpandas.read_strava('6019886157')\n",
    "activity.summary()"
   ]
  }
 ],
 "metadata": {
  "kernelspec": {
   "display_name": "runpandas",
   "language": "python",
   "name": "runpandas"
  },
  "language_info": {
   "codemirror_mode": {
    "name": "ipython",
    "version": 3
   },
   "file_extension": ".py",
   "mimetype": "text/x-python",
   "name": "python",
   "nbconvert_exporter": "python",
   "pygments_lexer": "ipython3",
   "version": "3.8.10"
  }
 },
 "nbformat": 4,
 "nbformat_minor": 5
}
